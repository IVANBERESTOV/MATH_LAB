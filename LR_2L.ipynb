{
  "cells": [
    {
      "cell_type": "markdown",
      "metadata": {
        "id": "awBvRrroaJRg"
      },
      "source": [
        "# Лучин Михаил\n",
        "\n",
        "\n",
        "#Лабораторная работа №2. Нормы векторов и матриц, решение переопределенной системы линейных уравнений, решение системы линейных уравнений с помощью LU разложения.\n",
        "№5"
      ]
    },
    {
      "cell_type": "code",
      "execution_count": 2,
      "metadata": {
        "id": "GxnCJeTIZTG1"
      },
      "outputs": [],
      "source": [
        "import sympy as sm\n",
        "import numpy as np\n",
        "import scipy as sp\n",
        "import matplotlib.pyplot as plt\n",
        "from scipy.optimize import fsolve"
      ]
    },
    {
      "cell_type": "markdown",
      "metadata": {
        "id": "O1gdjt7Iarjh"
      },
      "source": [
        "#1. Создать квадратную матрицу из случайных целых чисел из [0,8] размера 6. Создать две новые матрицы: первая – из двух последних строк исходной матрицы (должна получиться матрица размера 2х6), вторая – из двух первых столбцов матрицы (матрица размера 6х2)."
      ]
    },
    {
      "cell_type": "code",
      "execution_count": 3,
      "metadata": {
        "colab": {
          "base_uri": "https://localhost:8080/"
        },
        "id": "liMew7UAaG9S",
        "outputId": "1d00c460-dad7-4f4d-f4d7-2d148c853c30"
      },
      "outputs": [
        {
          "name": "stdout",
          "output_type": "stream",
          "text": [
            "Исходная матрица:\n",
            " [[6 2 1 0 4 7]\n",
            " [1 5 2 8 5 8]\n",
            " [4 1 1 0 0 3]\n",
            " [4 8 3 2 4 7]\n",
            " [6 2 5 7 3 2]\n",
            " [5 2 7 4 0 3]]\n",
            "\n",
            "Матрица из двух последних строк:\n",
            " [[6 2 5 7 3 2]\n",
            " [5 2 7 4 0 3]]\n",
            "\n",
            "Матрица из двух первых столбцов:\n",
            " [[6 2]\n",
            " [1 5]\n",
            " [4 1]\n",
            " [4 8]\n",
            " [6 2]\n",
            " [5 2]]\n"
          ]
        }
      ],
      "source": [
        "# Создаем квадратную матрицу 6x6 из случайных целых чисел [0,8]\n",
        "A = np.random.randint(0, 9, (6, 6))\n",
        "print(\"Исходная матрица:\\n\", A)\n",
        "\n",
        "# Создаем матрицу из двух последних строк\n",
        "A_last_rows = A[-2:, :]\n",
        "print(\"\\nМатрица из двух последних строк:\\n\", A_last_rows)\n",
        "\n",
        "# Создаем матрицу из двух первых столбцов\n",
        "A_first_cols = A[:, :2]\n",
        "print(\"\\nМатрица из двух первых столбцов:\\n\", A_first_cols)"
      ]
    },
    {
      "cell_type": "markdown",
      "metadata": {
        "id": "c1Oogv-Zav8f"
      },
      "source": [
        "#2. Создать вектор-строку 1x10 из случайных целых чисел. Вычислить норму $\\|x\\|_3$ самостоятельно написанной функцией и проверить результат с помощью linalg.norm() в Python."
      ]
    },
    {
      "cell_type": "code",
      "execution_count": 4,
      "metadata": {
        "colab": {
          "base_uri": "https://localhost:8080/"
        },
        "id": "RbfxzLWwazzB",
        "outputId": "614299e4-27c6-49fe-cf92-cf015b0a2a8e"
      },
      "outputs": [
        {
          "name": "stdout",
          "output_type": "stream",
          "text": [
            "\n",
            "Вектор:\n",
            " [8 3 3 7 3 0 4 0 3 9]\n",
            "\n",
            "Норма ||x||_3 (собственная): 12.064467852593173\n",
            "Норма ||x||_3 (библиотечная): 12.064467852593173\n"
          ]
        }
      ],
      "source": [
        "x = np.random.randint(0, 10, 10)\n",
        "print(\"\\nВектор:\\n\", x)\n",
        "\n",
        "def custom_norm_p(vector, p):\n",
        "    return np.sum(np.abs(vector) ** p) ** (1/p)\n",
        "\n",
        "norm_p3 = custom_norm_p(x, 3)\n",
        "print(\"\\nНорма ||x||_3 (собственная):\", norm_p3)\n",
        "norm_p3_lib = np.linalg.norm(x, ord=3)\n",
        "print(\"Норма ||x||_3 (библиотечная):\", norm_p3_lib)"
      ]
    },
    {
      "cell_type": "markdown",
      "metadata": {
        "id": "EuZQAp7PbMTg"
      },
      "source": [
        "#3. Создать матрицу из случайных целых чисел. Найти норму матрицы Фробениуса с помощью самостоятельно написанного алгоритма, проверить результат с помощью linalg.norm() в Python"
      ]
    },
    {
      "cell_type": "code",
      "execution_count": 5,
      "metadata": {
        "colab": {
          "base_uri": "https://localhost:8080/"
        },
        "id": "Adg_CxSwhcHA",
        "outputId": "4f21c6cc-bf89-4824-90bb-b35cebb02d47"
      },
      "outputs": [
        {
          "name": "stdout",
          "output_type": "stream",
          "text": [
            "\n",
            "Матрица A:\n",
            " [[8 1 9 0]\n",
            " [2 5 2 0]\n",
            " [0 0 9 5]\n",
            " [5 6 6 2]]\n",
            "\n",
            "Норма Фробениуса (собственная): 19.6468827043885\n",
            "Норма Фробениуса (библиотечная): 19.6468827043885\n"
          ]
        }
      ],
      "source": [
        "# Создаем случайную матрицу\n",
        "A = np.random.randint(0, 10, (4, 4))\n",
        "print(\"\\nМатрица A:\\n\", A)\n",
        "\n",
        "# Функция для вычисления нормы Фробениуса\n",
        "def custom_frobenius(matrix):\n",
        "    return np.sqrt(np.sum(matrix ** 2))\n",
        "\n",
        "norm_frob = custom_frobenius(A)\n",
        "print(\"\\nНорма Фробениуса (собственная):\", norm_frob)\n",
        "\n",
        "# Проверка с помощью библиотечной функции\n",
        "norm_frob_lib = np.linalg.norm(A, 'fro')\n",
        "print(\"Норма Фробениуса (библиотечная):\", norm_frob_lib)"
      ]
    },
    {
      "cell_type": "markdown",
      "metadata": {
        "id": "Urw_lG9Bjy_Q"
      },
      "source": [
        "#4. Найти псевдорешение системы \\begin{cases}\n",
        "15.7x_1 + 6.6x_2 - 5.7x_3 = -2.4 \\\\\n",
        "8.8x_1 - 6.7x_2 + 5.5x_3 = 5.6 \\\\\n",
        "6.3x_1 - 5.7x_2 - 23.4x_3 = 7.7 \\\\\n",
        "14.3x_1 + 8.7x_2 - 15.7x_3 = 23.4\n",
        "\\end{cases}\n"
      ]
    },
    {
      "cell_type": "code",
      "execution_count": 6,
      "metadata": {
        "colab": {
          "base_uri": "https://localhost:8080/"
        },
        "id": "JYuKZVRfj3OA",
        "outputId": "203f0d1e-59cd-4559-da51-545dcd8d6a4c"
      },
      "outputs": [
        {
          "name": "stdout",
          "output_type": "stream",
          "text": [
            "\n",
            "Псевдорешение системы (собственное):\n",
            " [ 0.37906884  0.12889361 -0.39275031]\n",
            "Псевдорешение системы (библиотечное):\n",
            " [ 0.37906884  0.12889361 -0.39275031]\n"
          ]
        }
      ],
      "source": [
        "A = np.array([\n",
        "    [15.7, 6.6, -5.7],\n",
        "    [8.8, -6.7, 5.5],\n",
        "    [6.3, -5.7, -23.4],\n",
        "    [14.3, 8.7, -15.7]\n",
        "])\n",
        "B = np.array([-2.4, 5.6, 7.7, 23.4])\n",
        "\n",
        "# Находим псевдорешение\n",
        "X_pseudo = np.linalg.inv(A.T @ A) @ A.T @ B\n",
        "print(\"\\nПсевдорешение системы (собственное):\\n\", X_pseudo)\n",
        "\n",
        "# Проверка с помощью библиотечной функции\n",
        "X_pseudo_lib = np.linalg.pinv(A) @ B\n",
        "print(\"Псевдорешение системы (библиотечное):\\n\", X_pseudo_lib)"
      ]
    },
    {
      "cell_type": "markdown",
      "metadata": {
        "id": "JkJeYfi6kq0Y"
      },
      "source": [
        "#5. Даны пять точек (20; 19), (25; 16), (30; 27), (35, 24), (40, 31). Найти уравнение наиболее выгодной траектории. Построить график."
      ]
    },
    {
      "cell_type": "code",
      "execution_count": 7,
      "metadata": {
        "id": "QYXtYHKolLM_"
      },
      "outputs": [
        {
          "name": "stdout",
          "output_type": "stream",
          "text": [
            "\n",
            "Уравнение траектории: y = 0.64x + 4.20\n"
          ]
        },
        {
          "data": {
            "image/png": "[encoded data removed]",
            "text/plain": [
              "<Figure size 1000x600 with 1 Axes>"
            ]
          },
          "metadata": {},
          "output_type": "display_data"
        }
      ],
      "source": [
        "points = np.array([[20, 19], [25, 16], [30, 27], [35, 24], [40, 31]])\n",
        "x_points = points[:, 0]\n",
        "y_points = points[:, 1]\n",
        "\n",
        "# Вычисляем коэффициенты регрессии\n",
        "A = np.vstack([x_points, np.ones(len(x_points))]).T\n",
        "coefficients = np.linalg.inv(A.T @ A) @ A.T @ y_points\n",
        "a, b = coefficients\n",
        "print(\"\\nУравнение траектории: y = {:.2f}x + {:.2f}\".format(a, b))\n",
        "\n",
        "# Вычисляем предсказанные значения\n",
        "y_pred = a * x_points + b\n",
        "\n",
        "# Настройка графика\n",
        "plt.figure(figsize=(10, 6))\n",
        "plt.xlim(15, 45)\n",
        "plt.ylim(15, 35)\n",
        "\n",
        "# Рисуем исходные точки и предсказанные значения (исправленный синтаксис)\n",
        "plt.scatter(x_points, y_points, s=40, c='g', marker='o', alpha=0.8, label='Исходные точки')\n",
        "plt.scatter(x_points, y_pred, s=40, c='b', marker='o', alpha=0.8, label='Предсказанные значения')\n",
        "\n",
        "# Линия регрессии\n",
        "X_support = np.linspace(15, 45, 100)\n",
        "Y_model = a * X_support + b\n",
        "plt.plot(X_support, Y_model, 'k-', label='Оптимальная траектория')\n",
        "\n",
        "# Вертикальные линии (ошибки)\n",
        "for i in range(len(x_points)):\n",
        "    X_v = (x_points[i], x_points[i])\n",
        "    Y_v = (y_points[i], y_pred[i])\n",
        "    plt.plot(X_v, Y_v, 'r', linestyle='dashed', alpha=0.5)\n",
        "\n",
        "plt.xlabel('X координата')\n",
        "plt.ylabel('Y координата')\n",
        "plt.title('Оптимальная траектория')\n",
        "plt.legend()\n",
        "plt.grid(True)\n",
        "plt.show()"
      ]
    },
    {
      "cell_type": "markdown",
      "metadata": {
        "id": "kqZrfr0GPWTs"
      },
      "source": [
        "#6. Создать произвольную верхнетреугольную матрицу А 4 порядка (не унитреугольную), вектор B произвольный. Решить систему AX = B."
      ]
    },
    {
      "cell_type": "code",
      "execution_count": 8,
      "metadata": {
        "id": "2BxX0s4TQIXW"
      },
      "outputs": [
        {
          "name": "stdout",
          "output_type": "stream",
          "text": [
            "\n",
            "Верхнетреугольная матрица:\n",
            " [[7 8 1 3]\n",
            " [0 4 2 9]\n",
            " [0 0 1 4]\n",
            " [0 0 0 5]]\n",
            "Вектор B:\n",
            " [1 9 9 8]\n",
            "\n",
            "Решение системы (собственное): [ 2.11428571 -2.65        2.6         1.6       ]\n",
            "Решение системы (библиотечное): [ 2.11428571 -2.65        2.6         1.6       ]\n"
          ]
        }
      ],
      "source": [
        "# Создаем верхнетреугольную матрицу 4x4 с ненулевыми элементами на диагонали\n",
        "while True:\n",
        "    A = np.triu(np.random.randint(0, 10, (4, 4)))\n",
        "    if np.all(np.diag(A) != 0):  # Проверяем, что диагональные элементы не нули\n",
        "        break\n",
        "\n",
        "B = np.random.randint(0, 10, 4)\n",
        "print(\"\\nВерхнетреугольная матрица:\\n\", A)\n",
        "print(\"Вектор B:\\n\", B)\n",
        "\n",
        "# Решение обратной подстановкой\n",
        "n = len(B)\n",
        "x = np.zeros(n)\n",
        "for i in range(n-1, -1, -1):\n",
        "    if A[i, i] == 0:\n",
        "        if B[i] == 0:\n",
        "            x[i] = np.nan  # Система имеет бесконечно много решений\n",
        "        else:\n",
        "            x[i] = np.inf  # Система несовместна\n",
        "    else:\n",
        "        x[i] = (B[i] - np.sum(A[i, i+1:] * x[i+1:])) / A[i, i]\n",
        "print(\"\\nРешение системы (собственное):\", x)\n",
        "\n",
        "# Проверка с помощью библиотечной функции\n",
        "try:\n",
        "    x_lib = np.linalg.solve(A, B)\n",
        "    print(\"Решение системы (библиотечное):\", x_lib)\n",
        "except np.linalg.LinAlgError:\n",
        "    print(\"Система не имеет единственного решения (матрица вырождена)\")"
      ]
    },
    {
      "cell_type": "markdown",
      "metadata": {
        "id": "SdGi9Jqyn7-7"
      },
      "source": [
        "#7. Решить систему, используя LU разложение матрицы. LU разложение должно быть найдено самостоятельно написанной функцией, полученные матрицы выведены на экран. Придерживаться плана решения, приведенного в пособии!\n"
      ]
    },
    {
      "cell_type": "code",
      "execution_count": null,
      "metadata": {
        "id": "hfZSGo4Kq-9D"
      },
      "outputs": [
        {
          "name": "stdout",
          "output_type": "stream",
          "text": [
            "\n",
            "Матрица L:\n",
            " [[ 1.          0.          0.          0.        ]\n",
            " [ 0.56050955  1.          0.          0.        ]\n",
            " [ 0.40127389  0.80278067  1.          0.        ]\n",
            " [ 0.91082803 -0.25852882  0.29403922  1.        ]]\n",
            "\n",
            "Матрица U:\n",
            " [[ 15.7          6.6         -5.7         11.5       ]\n",
            " [  0.         -10.39936306   8.69490446 -10.94585987]\n",
            " [  0.           0.         -28.09284008  10.77247504]\n",
            " [  0.           0.           0.         -22.2718727 ]]\n",
            "\n",
            "Решение системы с LU (собственное): [ 0.46606121  0.11028446 -0.56570877 -1.188659  ]\n",
            "Решение системы (библиотечное): [ 0.46606121  0.11028446 -0.56570877 -1.188659  ]\n"
          ]
        }
      ],
      "source": [
        "# LU-разложение (упрощенная реализация)\n",
        "def custom_lu(matrix):\n",
        "    n = matrix.shape[0]\n",
        "    L = np.eye(n)\n",
        "    U = matrix.copy()\n",
        "    for i in range(n-1):\n",
        "        for j in range(i+1, n):\n",
        "            L[j, i] = U[j, i] / U[i, i]\n",
        "            U[j, i:] -= L[j, i] * U[i, i:]\n",
        "    return L, U\n",
        "\n",
        "A = np.array([\n",
        "    [15.7, 6.6, -5.7, 11.5],\n",
        "    [8.8, -6.7, 5.5, -4.5],\n",
        "    [6.3, -5.7, -23.4, 6.6],\n",
        "    [14.3, 8.7, -15.7, -5.8]\n",
        "])\n",
        "B = np.array([-2.4, 5.6, 7.7, 23.4])\n",
        "\n",
        "L, U = custom_lu(A)\n",
        "print(\"\\nМатрица L:\\n\", L)\n",
        "print(\"\\nМатрица U:\\n\", U)\n",
        "\n",
        "# Решение системы с LU-разложением\n",
        "y = np.linalg.solve(L, B)\n",
        "x = np.linalg.solve(U, y)\n",
        "print(\"\\nРешение системы с LU (собственное):\", x)\n",
        "\n",
        "# Проверка с помощью библиотечной функции\n",
        "x_lib = np.linalg.solve(A, B)\n",
        "print(\"Решение системы (библиотечное):\", x_lib)"
      ]
    }
  ],
  "metadata": {
    "colab": {
      "provenance": []
    },
    "kernelspec": {
      "display_name": ".venv",
      "language": "python",
      "name": "python3"
    },
    "language_info": {
      "codemirror_mode": {
        "name": "ipython",
        "version": 3
      },
      "file_extension": ".py",
      "mimetype": "text/x-python",
      "name": "python",
      "nbconvert_exporter": "python",
      "pygments_lexer": "ipython3",
      "version": "3.11.2"
    }
  },
  "nbformat": 4,
  "nbformat_minor": 0
}

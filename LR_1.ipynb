{
  "cells": [
    {
      "cell_type": "code",
      "execution_count": 30,
      "metadata": {
        "id": "BuL60IJyUUd9"
      },
      "outputs": [],
      "source": [
        "import numpy as np\n",
        "import sympy as sm\n",
        "import math as m\n",
        "import scipy as sc\n",
        "import matplotlib.pyplot as plt"
      ]
    },
    {
      "cell_type": "markdown",
      "metadata": {
        "id": "kPAtBIl5WvKY"
      },
      "source": [
        "# Берестов Иван Михайлович\n",
        "ЛР №1, Вариант 2.\n"
      ]
    },
    {
      "cell_type": "markdown",
      "metadata": {
        "id": "yGfv3UURdDcs"
      },
      "source": [
        "# 1) Используя библиотеку NumPy, cоздать матрицу 5x5 случайных вещественных чисел, принадлежащих интервалу (0, 2).Транспонировать. Вычислить ее определитель."
      ]
    },
    {
      "cell_type": "code",
      "execution_count": 7,
      "metadata": {
        "colab": {
          "base_uri": "https://localhost:8080/"
        },
        "id": "902fRT6VYTFv",
        "outputId": "f34c1515-53fb-405d-aa24-b5fb8bebd02c"
      },
      "outputs": [
        {
          "data": {
            "text/plain": [
              "array([[1, 1, 1, 2, 2],\n",
              "       [2, 2, 2, 0, 2],\n",
              "       [1, 0, 2, 0, 1],\n",
              "       [1, 2, 1, 2, 2],\n",
              "       [0, 2, 1, 0, 1]])"
            ]
          },
          "execution_count": 7,
          "metadata": {},
          "output_type": "execute_result"
        }
      ],
      "source": [
        "matrix = np.random.randint(0,3,(5, 5))\n",
        "matrix"
      ]
    },
    {
      "cell_type": "code",
      "execution_count": 8,
      "metadata": {
        "colab": {
          "base_uri": "https://localhost:8080/"
        },
        "id": "2bmfkC7DYrth",
        "outputId": "f6012b4c-eeb3-44fb-decb-caa3c466f8a2"
      },
      "outputs": [
        {
          "data": {
            "text/plain": [
              "array([[1, 2, 1, 1, 0],\n",
              "       [1, 2, 0, 2, 2],\n",
              "       [1, 2, 2, 1, 1],\n",
              "       [2, 0, 0, 2, 0],\n",
              "       [2, 2, 1, 2, 1]])"
            ]
          },
          "execution_count": 8,
          "metadata": {},
          "output_type": "execute_result"
        }
      ],
      "source": [
        "matrix = matrix.transpose()\n",
        "matrix"
      ]
    },
    {
      "cell_type": "code",
      "execution_count": 9,
      "metadata": {
        "colab": {
          "base_uri": "https://localhost:8080/"
        },
        "id": "LZ5HuaU5Z7oj",
        "outputId": "1d7f7b2e-9883-40e1-94ac-9120be446000"
      },
      "outputs": [
        {
          "data": {
            "text/plain": [
              "np.float64(3.999999999999999)"
            ]
          },
          "execution_count": 9,
          "metadata": {},
          "output_type": "execute_result"
        }
      ],
      "source": [
        "np.linalg.det(matrix)"
      ]
    },
    {
      "cell_type": "markdown",
      "metadata": {
        "id": "Lk5F8ZCQdz-p"
      },
      "source": [
        "# 2) Используя библиотеку NumPy, cоздать вектор-столбец и матрицу подходящих размеров. Выполнить умножение матриц."
      ]
    },
    {
      "cell_type": "code",
      "execution_count": 10,
      "metadata": {
        "colab": {
          "base_uri": "https://localhost:8080/"
        },
        "id": "Z5WZYBQ2esR0",
        "outputId": "d0ac1d09-8c0d-4e4c-cae6-ab2a2523104e"
      },
      "outputs": [
        {
          "data": {
            "text/plain": [
              "array([[7, 2, 6, 9, 6, 1, 6, 4, 7, 2],\n",
              "       [5, 0, 5, 2, 7, 7, 0, 6, 5, 7]])"
            ]
          },
          "execution_count": 10,
          "metadata": {},
          "output_type": "execute_result"
        }
      ],
      "source": [
        "matrix = np.random.randint(0,10,(2, 10))\n",
        "matrix"
      ]
    },
    {
      "cell_type": "code",
      "execution_count": 11,
      "metadata": {
        "colab": {
          "base_uri": "https://localhost:8080/"
        },
        "id": "elJ0sBuVfLy8",
        "outputId": "39ec8c00-44a9-43b0-d71f-08328fdaabd0"
      },
      "outputs": [
        {
          "data": {
            "text/plain": [
              "array([[0],\n",
              "       [4],\n",
              "       [9],\n",
              "       [5],\n",
              "       [7],\n",
              "       [1],\n",
              "       [9],\n",
              "       [5],\n",
              "       [6],\n",
              "       [8]])"
            ]
          },
          "execution_count": 11,
          "metadata": {},
          "output_type": "execute_result"
        }
      ],
      "source": [
        "vector = np.random.randint(0,10,(10,1))\n",
        "vector"
      ]
    },
    {
      "cell_type": "code",
      "execution_count": 12,
      "metadata": {
        "colab": {
          "base_uri": "https://localhost:8080/"
        },
        "id": "17pqe7-yffd2",
        "outputId": "99d6d2a0-c5b9-43ea-820a-575d2b0d3dd4"
      },
      "outputs": [
        {
          "data": {
            "text/plain": [
              "array([[282],\n",
              "       [227]])"
            ]
          },
          "execution_count": 12,
          "metadata": {},
          "output_type": "execute_result"
        }
      ],
      "source": [
        "np.dot(matrix, vector)"
      ]
    },
    {
      "cell_type": "markdown",
      "metadata": {
        "id": "RFdoJEixhxz-"
      },
      "source": [
        "# 3) Используя библиотеку SymPy, упростите выражение $\\frac{28a}{b}(a+b)+(2a-7b)^2$\n",
        "$a=\\sqrt {3}$, $b=-3.42$"
      ]
    },
    {
      "cell_type": "code",
      "execution_count": 13,
      "metadata": {
        "colab": {
          "base_uri": "https://localhost:8080/",
          "height": 54
        },
        "id": "_ctRG30IjsCF",
        "outputId": "fa773a21-9d6c-4412-b731-b1f78119402f"
      },
      "outputs": [
        {
          "data": {
            "text/latex": [
              "$\\displaystyle 4 a^{2} + \\frac{28 a^{2}}{b} - 28 a b + 28 a + 49 b^{2}$"
            ],
            "text/plain": [
              "4*a**2 + 28*a**2/b - 28*a*b + 28*a + 49*b**2"
            ]
          },
          "execution_count": 13,
          "metadata": {},
          "output_type": "execute_result"
        }
      ],
      "source": [
        "a,b = sm.symbols('a, b')\n",
        "exp = (28*a / b) * (a + b) + (2*a - 7*b)**2\n",
        "exp = exp.expand()\n",
        "exp"
      ]
    },
    {
      "cell_type": "code",
      "execution_count": 14,
      "metadata": {
        "colab": {
          "base_uri": "https://localhost:8080/",
          "height": 37
        },
        "id": "dL-73oZrs4_k",
        "outputId": "edfb382a-ea7d-4ff8-f364-76a1c7f94dd0"
      },
      "outputs": [
        {
          "data": {
            "text/latex": [
              "$\\displaystyle 774.92$"
            ],
            "text/plain": [
              "774.92"
            ]
          },
          "execution_count": 14,
          "metadata": {},
          "output_type": "execute_result"
        }
      ],
      "source": [
        "round(exp.subs([(a, m.sqrt(3)), (b, -3.42)]), 2)"
      ]
    },
    {
      "cell_type": "markdown",
      "metadata": {
        "id": "FbjA9LDUsi_G"
      },
      "source": [
        "# 4) Используя библиотеку SymPy, найдите частные производные от выражения из задания выше."
      ]
    },
    {
      "cell_type": "code",
      "execution_count": 15,
      "metadata": {
        "colab": {
          "base_uri": "https://localhost:8080/",
          "height": 51
        },
        "id": "A_HKFl1zsqNA",
        "outputId": "9f121c79-10d8-47c2-faa0-81555a7a1480"
      },
      "outputs": [
        {
          "data": {
            "text/latex": [
              "$\\displaystyle 8 a + \\frac{56 a}{b} - 28 b + 28$"
            ],
            "text/plain": [
              "8*a + 56*a/b - 28*b + 28"
            ]
          },
          "execution_count": 15,
          "metadata": {},
          "output_type": "execute_result"
        }
      ],
      "source": [
        "exp.diff(a)"
      ]
    },
    {
      "cell_type": "code",
      "execution_count": 16,
      "metadata": {
        "colab": {
          "base_uri": "https://localhost:8080/",
          "height": 54
        },
        "id": "zxNaZnDZtFUQ",
        "outputId": "808592f3-c3ec-4681-e763-24d85acdca36"
      },
      "outputs": [
        {
          "data": {
            "text/latex": [
              "$\\displaystyle - \\frac{28 a^{2}}{b^{2}} - 28 a + 98 b$"
            ],
            "text/plain": [
              "-28*a**2/b**2 - 28*a + 98*b"
            ]
          },
          "execution_count": 16,
          "metadata": {},
          "output_type": "execute_result"
        }
      ],
      "source": [
        "exp.diff(b)"
      ]
    },
    {
      "cell_type": "markdown",
      "metadata": {
        "id": "IhCpCndPtayw"
      },
      "source": [
        "# 5)Используя библиотеку NumPy, найти собственные векторы и собственные значения матрицы \n",
        "$A=\\begin{pmatrix}\n",
        "0 & -3 & -1 \\\\\n",
        "3 & 8 & 2 \\\\\n",
        "-7 & -15 & -3 \\\\\n",
        "\\end{pmatrix}$"
      ]
    },
    {
      "cell_type": "code",
      "execution_count": 17,
      "metadata": {
        "colab": {
          "base_uri": "https://localhost:8080/"
        },
        "id": "c4hbHgdtuXv_",
        "outputId": "06c516af-ba3b-41c6-bbe0-5e791fc5f87b"
      },
      "outputs": [
        {
          "data": {
            "text/plain": [
              "EigResult(eigenvalues=array([1.+0.00000000e+00j, 2.+9.11086655e-08j, 2.-9.11086655e-08j]), eigenvectors=array([[ 4.08248290e-01+0.00000000e+00j,  1.35951347e-15+2.88110898e-08j,\n",
              "         1.35951347e-15-2.88110898e-08j],\n",
              "       [-4.08248290e-01+0.00000000e+00j, -3.16227766e-01-1.92073932e-08j,\n",
              "        -3.16227766e-01+1.92073932e-08j],\n",
              "       [ 8.16496581e-01+0.00000000e+00j,  9.48683298e-01+0.00000000e+00j,\n",
              "         9.48683298e-01-0.00000000e+00j]]))"
            ]
          },
          "execution_count": 17,
          "metadata": {},
          "output_type": "execute_result"
        }
      ],
      "source": [
        "A = np.array([[0,-3,-1],[3,8,2],[-7,-15,-3]])\n",
        "np.linalg.eig(A)"
      ]
    },
    {
      "cell_type": "markdown",
      "metadata": {
        "id": "tmm84MCBtEvA"
      },
      "source": [
        "# 6)Вычислить интеграл двумя способами: используя библиотеку SciPy и библиотеку SymPy $\\int_0^4\\frac{dx}{1+\\sqrt{2x+1}}$"
      ]
    },
    {
      "cell_type": "code",
      "execution_count": 18,
      "metadata": {
        "colab": {
          "base_uri": "https://localhost:8080/"
        },
        "id": "5J9cbBO1wRTP",
        "outputId": "19bbcbbb-0ca5-4cf6-a7f8-0aa5225aa6b2"
      },
      "outputs": [
        {
          "data": {
            "text/plain": [
              "(1.3068528194401, 1.8467446721096826e-08)"
            ]
          },
          "execution_count": 18,
          "metadata": {},
          "output_type": "execute_result"
        }
      ],
      "source": [
        "sc.integrate.quad(lambda x: pow(1+m.sqrt(2*x+1),-1), 0, 4)"
      ]
    },
    {
      "cell_type": "code",
      "execution_count": 19,
      "metadata": {
        "colab": {
          "base_uri": "https://localhost:8080/",
          "height": 315
        },
        "id": "u6wPU4isyoaB",
        "outputId": "283401f5-1bfe-4048-d210-5d1bf847c3c5"
      },
      "outputs": [
        {
          "data": {
            "text/latex": [
              "$\\displaystyle - \\log{\\left(4 \\right)} + \\log{\\left(2 \\right)} + 2$"
            ],
            "text/plain": [
              "-log(4) + log(2) + 2"
            ]
          },
          "execution_count": 19,
          "metadata": {},
          "output_type": "execute_result"
        }
      ],
      "source": [
        "x=sm.symbols('x')\n",
        "sm.Integral(pow(1+sm.sqrt(2*x+1),-1),(x,0,4)).doit()"
      ]
    },
    {
      "cell_type": "markdown",
      "metadata": {},
      "source": [
        "# 7)Вычислить интеграл двумя способами: используя библиотеку SciPy и библиотеку SymPy $\\int_0^{\\pi}dx\\int_0^x cos(x + y)dy$"
      ]
    },
    {
      "cell_type": "code",
      "execution_count": null,
      "metadata": {},
      "outputs": [
        {
          "data": {
            "text/plain": [
              "-2.0"
            ]
          },
          "execution_count": 27,
          "metadata": {},
          "output_type": "execute_result"
        }
      ],
      "source": [
        "def f(y, x):\n",
        "    return np.cos(x + y)\n",
        "res, err = sc.integrate.dblquad(f, 0, np.pi, lambda x: 0, lambda x: x)\n",
        "res"
      ]
    },
    {
      "cell_type": "code",
      "execution_count": 28,
      "metadata": {},
      "outputs": [
        {
          "data": {
            "text/latex": [
              "$\\displaystyle -2$"
            ],
            "text/plain": [
              "-2"
            ]
          },
          "execution_count": 28,
          "metadata": {},
          "output_type": "execute_result"
        }
      ],
      "source": [
        "x, y = sm.symbols('x y')\n",
        "integrand = sm.cos(x + y)\n",
        "inner_integral = sm.integrate(integrand, (y, 0, x))\n",
        "sm.integrate(inner_integral, (x, 0, sm.pi))"
      ]
    },
    {
      "cell_type": "markdown",
      "metadata": {},
      "source": [
        "# 8)Построить в одной системе координат графики функций:$\\begin{cases} y = \\ln(x + 5) \\\\ y = 3x - 2 \\end{cases}\\\\$Оси координат должны быть подписаны, графики должны быть разного цвета, должна быть выведена легенда. Точку пересечения (если она есть) выделить на графике оранжевым цветом."
      ]
    },
    {
      "cell_type": "code",
      "execution_count": 34,
      "metadata": {},
      "outputs": [
        {
          "data": {
            "image/png": "[encoded data removed]",
            "text/plain": [
              "<Figure size 640x400 with 1 Axes>"
            ]
          },
          "metadata": {},
          "output_type": "display_data"
        }
      ],
      "source": [
        "# Определяем функции\n",
        "def f1(x):\n",
        "    return np.log(x + 5)\n",
        "\n",
        "def f2(x):\n",
        "    return 3 * x - 2\n",
        "\n",
        "# Метод половинного деления для нахождения точки пересечения\n",
        "def find_intersection(f1, f2, a, b, tol=1e-6, max_iter=100):\n",
        "    for i in range(max_iter):\n",
        "        c = (a + b) / 2  # Середина интервала\n",
        "        if abs(f1(c) - f2(c)) < tol:  # Проверяем, нашли ли решение\n",
        "            return c\n",
        "        if (f1(a) - f2(a)) * (f1(c) - f2(c)) < 0:  # Корень находится в [a, c]\n",
        "            b = c\n",
        "        else:  # Корень находится в [c, b]\n",
        "            a = c\n",
        "    return (a + b) / 2  # Возвращаем приближенное значение\n",
        "\n",
        "# Находим точку пересечения\n",
        "x_intersect = find_intersection(f1, f2, a=-4.9, b=5)  # Интервал поиска: x > -5\n",
        "y_intersect = f1(x_intersect)\n",
        "\n",
        "# Создание объектов артборда и холста\n",
        "plt.figure(figsize=(8, 5), dpi=80)\n",
        "ax = plt.subplot(111)\n",
        "\n",
        "# Удаляем правую и верхнюю границы\n",
        "ax.spines['right'].set_color('none')\n",
        "ax.spines['top'].set_color('none')\n",
        "\n",
        "# Устанавливаем положение осей\n",
        "ax.xaxis.set_ticks_position('bottom')\n",
        "ax.spines['bottom'].set_position(('data', 0))\n",
        "ax.yaxis.set_ticks_position('left')\n",
        "ax.spines['left'].set_position(('data', 0))\n",
        "\n",
        "# Рисуем стрелки на осях\n",
        "ax.plot(1, 0, \">k\", transform=ax.get_yaxis_transform(), clip_on=False)\n",
        "ax.plot(0, 1, \"^k\", transform=ax.get_xaxis_transform(), clip_on=False)\n",
        "\n",
        "# Строим графики функций\n",
        "x_values = np.linspace(-4.9, 5, 500)  # x + 5 > 0, поэтому x > -5\n",
        "plt.plot(x_values, f1(x_values), color=\"blue\", linewidth=2.5, linestyle=\"-\", label=r'$y = \\ln(x + 5)$')\n",
        "plt.plot(x_values, f2(x_values), color=\"red\", linewidth=2.5, linestyle=\"-\", label=r'$y = 3x - 2$')\n",
        "\n",
        "# Выделяем точку пересечения\n",
        "ax.scatter(x_intersect, y_intersect, color='orange', zorder=5, label='Точка пересечения')\n",
        "\n",
        "# Устанавливаем пределы осей\n",
        "plt.xlim(x_values.min() * 1.1, x_values.max() * 1.1)\n",
        "plt.ylim(min(f1(x_values).min(), f2(x_values).min()) * 1.1, max(f1(x_values).max(), f2(x_values).max()) * 1.1)\n",
        "\n",
        "# Подписываем оси\n",
        "plt.xlabel('x', fontsize=12)\n",
        "plt.ylabel('y', fontsize=12)\n",
        "\n",
        "# Добавляем легенду\n",
        "plt.legend(loc='upper left', frameon=False)\n",
        "\n",
        "# Добавляем сетку\n",
        "plt.grid(True, linestyle='--', alpha=0.6)\n",
        "\n",
        "# Показываем график\n",
        "plt.title('Графики функций', fontsize=14)\n",
        "plt.show()"
      ]
    }
  ],
  "metadata": {
    "colab": {
      "provenance": []
    },
    "kernelspec": {
      "display_name": ".venv",
      "language": "python",
      "name": "python3"
    },
    "language_info": {
      "codemirror_mode": {
        "name": "ipython",
        "version": 3
      },
      "file_extension": ".py",
      "mimetype": "text/x-python",
      "name": "python",
      "nbconvert_exporter": "python",
      "pygments_lexer": "ipython3",
      "version": "3.11.2"
    }
  },
  "nbformat": 4,
  "nbformat_minor": 0
}

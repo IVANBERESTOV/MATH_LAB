{
 "cells": [
  {
   "cell_type": "code",
   "execution_count": 2,
   "metadata": {},
   "outputs": [],
   "source": [
    "import numpy as np\n",
    "import sympy as sm\n",
    "import math as m\n",
    "import scipy as sc\n",
    "import matplotlib.pyplot as plt"
   ]
  },
  {
   "cell_type": "markdown",
   "metadata": {},
   "source": [
    "# Берестов Иван Михайлович\n",
    "ЛР №2, Вариант 2."
   ]
  },
  {
   "cell_type": "markdown",
   "metadata": {},
   "source": [
    "# 1) Создать квадратную матрицу из случайных вещественных чисел размера 7. Найти скалярное произведение 4 строки на 5 столбец. Использовать срезы матриц"
   ]
  },
  {
   "cell_type": "code",
   "execution_count": 6,
   "metadata": {},
   "outputs": [
    {
     "data": {
      "text/plain": [
       "np.float64(1.6897535212928083)"
      ]
     },
     "execution_count": 6,
     "metadata": {},
     "output_type": "execute_result"
    }
   ],
   "source": [
    "matrix = np.random.rand(7,7)\n",
    "row_4 = matrix[3, :]\n",
    "\n",
    "# Извлекаем 5-й столбец (индекс 4)\n",
    "col_5 = matrix[:, 4]\n",
    "\n",
    "# Вычисляем скалярное произведение 4-й строки и 5-го столбца\n",
    "np.dot(row_4, col_5)"
   ]
  },
  {
   "cell_type": "markdown",
   "metadata": {},
   "source": [
    "# 2) Создать вектор-строку 1x10 из случайных целых чисел. Вычислить норму $\\|x\\|_2$ самостоятельно написанной функцией и проверить результат с помощью linalg.norm() в Python."
   ]
  },
  {
   "cell_type": "code",
   "execution_count": 5,
   "metadata": {},
   "outputs": [
    {
     "data": {
      "text/plain": [
       "array([0.25035854, 0.10579235, 0.63084674, 0.47985821, 0.39294318,\n",
       "       0.49544875, 0.311832  ])"
      ]
     },
     "execution_count": 5,
     "metadata": {},
     "output_type": "execute_result"
    }
   ],
   "source": [
    "x=np.random.rand(7)\n",
    "x"
   ]
  }
 ],
 "metadata": {
  "kernelspec": {
   "display_name": ".venv",
   "language": "python",
   "name": "python3"
  },
  "language_info": {
   "codemirror_mode": {
    "name": "ipython",
    "version": 3
   },
   "file_extension": ".py",
   "mimetype": "text/x-python",
   "name": "python",
   "nbconvert_exporter": "python",
   "pygments_lexer": "ipython3",
   "version": "3.13.2"
  }
 },
 "nbformat": 4,
 "nbformat_minor": 2
}

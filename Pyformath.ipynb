{
  "cells": [
    {
      "cell_type": "code",
      "execution_count": null,
      "metadata": {
        "id": "11F2n84D0Bcz"
      },
      "outputs": [],
      "source": [
        "import math\n",
        "import numpy as np\n",
        "import matplotlib.pyplot as plt\n",
        "import scipy as sp\n",
        "from scipy import integrate"
      ]
    },
    {
      "cell_type": "markdown",
      "source": [],
      "metadata": {
        "id": "SZNoYG9sLfcP"
      }
    },
    {
      "cell_type": "code",
      "source": [],
      "metadata": {
        "id": "l9lLc0hsLZvW"
      },
      "execution_count": null,
      "outputs": []
    },
    {
      "cell_type": "markdown",
      "metadata": {
        "id": "gPOk0ylD0Bc9"
      },
      "source": [
        "# Лабораторная работа №1. Питон для математиков."
      ]
    },
    {
      "cell_type": "markdown",
      "metadata": {
        "id": "PUDI_m4h0BdB"
      },
      "source": [
        "# Создание матрицы. Вычисление определителя."
      ]
    },
    {
      "cell_type": "markdown",
      "metadata": {
        "id": "JCDQMYKL0BdD"
      },
      "source": [
        "1. Создать матрицу 5x5 случайных целых чисел принадлежащих отрезку [0, 10]. Вычислить ее определитель."
      ]
    },
    {
      "cell_type": "code",
      "execution_count": null,
      "metadata": {
        "colab": {
          "base_uri": "https://localhost:8080/"
        },
        "id": "59qC451t0BdE",
        "outputId": "429a1bc0-1f51-47b6-c102-8d10f09ca37d"
      },
      "outputs": [
        {
          "output_type": "stream",
          "name": "stdout",
          "text": [
            "[[9 3 6 9 7]\n",
            " [7 8 1 3 7]\n",
            " [4 0 6 9 8]\n",
            " [8 7 3 3 2]\n",
            " [3 0 1 5 8]]\n"
          ]
        }
      ],
      "source": [
        "A = np.random.randint(0,10,(5, 5))\n",
        "print(A)"
      ]
    },
    {
      "cell_type": "code",
      "execution_count": null,
      "metadata": {
        "colab": {
          "base_uri": "https://localhost:8080/"
        },
        "id": "AgTvb6ZW0BdH",
        "outputId": "d932af4a-3197-4106-cb10-13f4a4bf8911"
      },
      "outputs": [
        {
          "output_type": "execute_result",
          "data": {
            "text/plain": [
              "1.999999999999995"
            ]
          },
          "metadata": {},
          "execution_count": 3
        }
      ],
      "source": [
        "np.linalg.det(A)"
      ]
    },
    {
      "cell_type": "markdown",
      "metadata": {
        "id": "9EhqCDkF0BdI"
      },
      "source": [
        "# Умножение матриц"
      ]
    },
    {
      "cell_type": "code",
      "execution_count": null,
      "metadata": {
        "colab": {
          "base_uri": "https://localhost:8080/"
        },
        "id": "sj0blCLI0BdK",
        "outputId": "fffc7a32-3e5a-4890-c12c-548df5b14cf7"
      },
      "outputs": [
        {
          "output_type": "stream",
          "name": "stdout",
          "text": [
            "B= [2 4 3]\n",
            "C= [[1 2 0]\n",
            " [1 2 1]\n",
            " [1 1 1]]\n",
            "B*C= [ 9 15  7]\n"
          ]
        }
      ],
      "source": [
        "B = np.array([2, 4, 3], int)\n",
        "C = np.array([[1, 2, 0], [1, 2, 1], [1, 1, 1]], int)\n",
        "D = np.dot(B, C)\n",
        "print('B=', B)\n",
        "print('C=', C)\n",
        "print('B*C=', D)"
      ]
    },
    {
      "cell_type": "markdown",
      "metadata": {
        "id": "b9PEhLOh0BdM"
      },
      "source": [
        "# Решение системы линейных уравнений."
      ]
    },
    {
      "cell_type": "code",
      "execution_count": null,
      "metadata": {
        "colab": {
          "base_uri": "https://localhost:8080/"
        },
        "id": "Jwns-nyB0BdN",
        "outputId": "093caeae-c3be-4c4f-98ce-5b13cad6603f"
      },
      "outputs": [
        {
          "output_type": "execute_result",
          "data": {
            "text/plain": [
              "array([0., 1., 2.])"
            ]
          },
          "metadata": {},
          "execution_count": 5
        }
      ],
      "source": [
        "\n",
        "M2 = np.array([[1, 2, 0], [1, 2, 1], [1, 1, 1]], int) # Матрица (левая часть системы)\n",
        "v2 = np.array([2, 4, 3], int) # Вектор (правая часть системы)\n",
        "\n",
        "np.linalg.solve(M2, v2)"
      ]
    },
    {
      "cell_type": "markdown",
      "metadata": {
        "id": "zv0nFdt70BdO"
      },
      "source": [
        "# Вычисление интеграла с помощью SciPy"
      ]
    },
    {
      "cell_type": "markdown",
      "metadata": {
        "id": "ilcWE-Ws0BdP"
      },
      "source": [
        "Вычислите интеграл $$\\int _1 ^2 (x+1) dx$$"
      ]
    },
    {
      "cell_type": "code",
      "execution_count": null,
      "metadata": {
        "colab": {
          "base_uri": "https://localhost:8080/"
        },
        "id": "L2sBIsOy0BdQ",
        "outputId": "78d27f94-9829-4ebe-d253-09038f33e4c2"
      },
      "outputs": [
        {
          "output_type": "execute_result",
          "data": {
            "text/plain": [
              "(2.5, 2.7755575615628914e-14)"
            ]
          },
          "metadata": {},
          "execution_count": 6
        }
      ],
      "source": [
        "\n",
        "integrate.quad(lambda x:(x+1), 1, 2)\n"
      ]
    },
    {
      "cell_type": "markdown",
      "metadata": {
        "id": "MkEc00m80BdR"
      },
      "source": [
        "Вычислите интеграл $$ \\int _1 ^2 x^ {\\frac 3 4} dx$$"
      ]
    },
    {
      "cell_type": "code",
      "execution_count": null,
      "metadata": {
        "colab": {
          "base_uri": "https://localhost:8080/"
        },
        "id": "6q5VhE-l0BdR",
        "outputId": "a9f50d6e-acfa-4ea5-92a3-00957d1b0d9c"
      },
      "outputs": [
        {
          "output_type": "execute_result",
          "data": {
            "text/plain": [
              "(1.350620377722776, 1.499489840875752e-14)"
            ]
          },
          "metadata": {},
          "execution_count": 7
        }
      ],
      "source": [
        "\n",
        "integrate.quad(lambda x: math.pow(x, 0.75), 1, 2)"
      ]
    },
    {
      "cell_type": "markdown",
      "metadata": {
        "id": "kRE3jGs50BdS"
      },
      "source": [
        "Вычислите интеграл $$ \\int _1 ^\\infty {\\frac {1}{\\sqrt x}} dx$$\n",
        "P.S. Что пошло не так при вычислении этого интеграла?"
      ]
    },
    {
      "cell_type": "code",
      "execution_count": null,
      "metadata": {
        "colab": {
          "base_uri": "https://localhost:8080/"
        },
        "id": "4DDxw2cn0BdT",
        "outputId": "c97b4822-10dc-4951-ea6e-c61db1462067"
      },
      "outputs": [
        {
          "output_type": "stream",
          "name": "stderr",
          "text": [
            "<ipython-input-8-cc5e0b8a65ec>:1: IntegrationWarning: The integral is probably divergent, or slowly convergent.\n",
            "  integrate.quad(lambda x: math.pow(x, -0.5), 1, np.inf)\n"
          ]
        },
        {
          "output_type": "execute_result",
          "data": {
            "text/plain": [
              "(-1.9999999999999907, 5.575540029667536e-13)"
            ]
          },
          "metadata": {},
          "execution_count": 8
        }
      ],
      "source": [
        "integrate.quad(lambda x: math.pow(x, -0.5), 1, np.inf)"
      ]
    },
    {
      "cell_type": "markdown",
      "metadata": {
        "id": "itbpJmE90BdU"
      },
      "source": [
        "Вычисление кратного интеграла:\n",
        "$$\\int_1^2\\int_1^x {xy}dxdy$$\n",
        "Функция dblquad. Первый параметр функции dblquad должен быть f (x, y) (подинтегральная функция) , второй и  третий - числа, внешние пределы интеграрования , четвертый и пятый -  g (x), h (x) - функции, внутренние пределы интегрирования."
      ]
    },
    {
      "cell_type": "code",
      "execution_count": null,
      "metadata": {
        "colab": {
          "base_uri": "https://localhost:8080/"
        },
        "id": "rWz2DLfE0BdU",
        "outputId": "d301edde-98fa-40c7-bf47-1756b62d162d"
      },
      "outputs": [
        {
          "output_type": "stream",
          "name": "stdout",
          "text": [
            "1.125\n"
          ]
        }
      ],
      "source": [
        "\n",
        "def f(x, y):\n",
        "    return x * y\n",
        "def h(x):\n",
        "    return x\n",
        "v, err = integrate.dblquad(f, 1, 2, lambda x: 1, h)\n",
        "\n",
        "print(v)"
      ]
    },
    {
      "cell_type": "markdown",
      "source": [
        "#БИБЛИОТЕКА SYMPY  - символьные вычисления"
      ],
      "metadata": {
        "id": "CAC52mehHTmJ"
      }
    },
    {
      "cell_type": "code",
      "source": [
        "import sympy as sm\n",
        "#введу переменную x\n",
        "x = sm.Symbol('x')\n",
        "# введем ДВЕ переменные x И z\n",
        "y, z = sm.symbols('y, z')"
      ],
      "metadata": {
        "id": "wqsLMpyoHiPF"
      },
      "execution_count": null,
      "outputs": []
    },
    {
      "cell_type": "code",
      "source": [
        "#создаю выражение\n",
        "a = (3*x +5*y**2)/z\n",
        "#обратите внимание как красиво без функции принт!\n",
        "a"
      ],
      "metadata": {
        "colab": {
          "base_uri": "https://localhost:8080/",
          "height": 54
        },
        "id": "cUOjnoG1Ix4L",
        "outputId": "395a57f9-6f8b-4d8a-c031-9ad6a64a8bee"
      },
      "execution_count": null,
      "outputs": [
        {
          "output_type": "execute_result",
          "data": {
            "text/plain": [
              "(3*x + 5*y**2)/z"
            ],
            "text/latex": "$\\displaystyle \\frac{3 x + 5 y^{2}}{z}$"
          },
          "metadata": {},
          "execution_count": 11
        }
      ]
    },
    {
      "cell_type": "code",
      "source": [
        "#преобразование выражений\n",
        "b = (sm.sqrt(3)* x + 8*y)*(3*z - 9*y)\n",
        "b"
      ],
      "metadata": {
        "colab": {
          "base_uri": "https://localhost:8080/",
          "height": 47
        },
        "id": "_XaX0psJJPoT",
        "outputId": "165fbb69-c687-4df4-8eb8-f8b4b8cce7d8"
      },
      "execution_count": null,
      "outputs": [
        {
          "output_type": "execute_result",
          "data": {
            "text/plain": [
              "(-9*y + 3*z)*(sqrt(3)*x + 8*y)"
            ],
            "text/latex": "$\\displaystyle \\left(- 9 y + 3 z\\right) \\left(\\sqrt{3} x + 8 y\\right)$"
          },
          "metadata": {},
          "execution_count": 12
        }
      ]
    },
    {
      "cell_type": "code",
      "source": [
        "#не используйтте принт!!!\n",
        "b.expand()"
      ],
      "metadata": {
        "colab": {
          "base_uri": "https://localhost:8080/",
          "height": 39
        },
        "id": "U0TzlmAbJk5R",
        "outputId": "ce0bfed2-7575-4877-e15d-82fcc04e2dcf"
      },
      "execution_count": null,
      "outputs": [
        {
          "output_type": "execute_result",
          "data": {
            "text/plain": [
              "-9*sqrt(3)*x*y + 3*sqrt(3)*x*z - 72*y**2 + 24*y*z"
            ],
            "text/latex": "$\\displaystyle - 9 \\sqrt{3} x y + 3 \\sqrt{3} x z - 72 y^{2} + 24 y z$"
          },
          "metadata": {},
          "execution_count": 13
        }
      ]
    },
    {
      "cell_type": "code",
      "source": [
        "#производная по z\n",
        "sm.diff(b,z)"
      ],
      "metadata": {
        "colab": {
          "base_uri": "https://localhost:8080/",
          "height": 39
        },
        "id": "fFjV-z_MKG_1",
        "outputId": "f453bae0-492c-4d6b-868c-2b25494c41e2"
      },
      "execution_count": null,
      "outputs": [
        {
          "output_type": "execute_result",
          "data": {
            "text/plain": [
              "3*sqrt(3)*x + 24*y"
            ],
            "text/latex": "$\\displaystyle 3 \\sqrt{3} x + 24 y$"
          },
          "metadata": {},
          "execution_count": 14
        }
      ]
    },
    {
      "cell_type": "code",
      "source": [
        "#вычислим интеграл от одной переменной\n",
        "#сначала его создадим\n",
        "myintegr = sm.Integral(x**3+2*x-sm.sin(x), x)\n",
        "myintegr"
      ],
      "metadata": {
        "colab": {
          "base_uri": "https://localhost:8080/",
          "height": 55
        },
        "id": "jSTK9bIkKb4o",
        "outputId": "4bb5cf78-648b-4c7b-e175-61093915d840"
      },
      "execution_count": null,
      "outputs": [
        {
          "output_type": "execute_result",
          "data": {
            "text/plain": [
              "Integral(x**3 + 2*x - sin(x), x)"
            ],
            "text/latex": "$\\displaystyle \\int \\left(x^{3} + 2 x - \\sin{\\left(x \\right)}\\right)\\, dx$"
          },
          "metadata": {},
          "execution_count": 15
        }
      ]
    },
    {
      "cell_type": "code",
      "source": [
        "#вычислим интеграл\n",
        "myintegr.doit()"
      ],
      "metadata": {
        "colab": {
          "base_uri": "https://localhost:8080/",
          "height": 54
        },
        "id": "YVDqtX-FLIes",
        "outputId": "bf5f6b71-6584-43cb-e289-d06ba4c59561"
      },
      "execution_count": null,
      "outputs": [
        {
          "output_type": "execute_result",
          "data": {
            "text/plain": [
              "x**4/4 + x**2 + cos(x)"
            ],
            "text/latex": "$\\displaystyle \\frac{x^{4}}{4} + x^{2} + \\cos{\\left(x \\right)}$"
          },
          "metadata": {},
          "execution_count": 16
        }
      ]
    },
    {
      "cell_type": "code",
      "source": [
        "#определенный интеграл\n",
        "sm.integrate(x**3+2*x-sm.sin(x),(x,0,7))"
      ],
      "metadata": {
        "colab": {
          "base_uri": "https://localhost:8080/",
          "height": 51
        },
        "id": "1TB5TBNjLVAJ",
        "outputId": "0a700127-f82b-4bb6-f7cc-42af7d359618"
      },
      "execution_count": null,
      "outputs": [
        {
          "output_type": "execute_result",
          "data": {
            "text/plain": [
              "cos(7) + 2593/4"
            ],
            "text/latex": "$\\displaystyle \\cos{\\left(7 \\right)} + \\frac{2593}{4}$"
          },
          "metadata": {},
          "execution_count": 17
        }
      ]
    },
    {
      "cell_type": "markdown",
      "metadata": {
        "id": "Avwh15x00BdW"
      },
      "source": [
        "# Построение графиков функций с помощью Mathplotlib\n",
        "\n",
        "Построить в одной системе координат графики функций: y = cos(x) + 2, y = -x + 2\n",
        "Оси координат должны быть подписаны, графики должны быть разного цвета, должна быть выведена легенда.\n"
      ]
    },
    {
      "cell_type": "code",
      "execution_count": null,
      "metadata": {
        "id": "T7uT4gZC0BdX",
        "colab": {
          "base_uri": "https://localhost:8080/",
          "height": 348
        },
        "outputId": "6811f7d1-d546-4dee-c2ba-7b7bfff7fcd4"
      },
      "outputs": [
        {
          "output_type": "display_data",
          "data": {
            "text/plain": [
              "<Figure size 640x400 with 1 Axes>"
            ],
            "image/png": "[encoded data removed]"
          },
          "metadata": {}
        }
      ],
      "source": [
        "#про стрелки можно прочитать здесь:\n",
        "#https://translated.turbopages.org/proxy_u/en-ru.ru.f4e3ce52-64cbf906-6a936b2a-74722d776562/https/stackoverflow.com/questions/33737736/matplotlib-axis-arrow-tip\n",
        "\n",
        "# Создание объектов артборда и холста\n",
        "\n",
        "plt.figure(figsize=(8, 5), dpi=80)\n",
        "ax = plt.subplot(111)\n",
        "\n",
        "# Мы решили удалить правую и верхнюю прямоугольные границы\n",
        "ax.spines['right'].set_color('none')\n",
        "ax.spines['top'].set_color('none')\n",
        "\n",
        "\n",
        "# Установить направление данных на координатной оси\n",
        " # 0 согласуется с нашей общей декартовой системой координат, 1 - противоположность\n",
        "ax.xaxis.set_ticks_position('bottom')\n",
        "ax.spines['bottom'].set_position(('data', 0))\n",
        "ax.yaxis.set_ticks_position('left')\n",
        "ax.spines['left'].set_position(('data', 0))\n",
        "\n",
        "\n",
        "# Подготовить данные, использовать распаковку последовательности\n",
        "\n",
        "X = np.linspace(-2*np.pi, 2*np.pi, 256, endpoint=True)\n",
        "C, L = np.cos(X)+2, -X+2\n",
        "\n",
        "plt.plot(X, C, color=\"blue\", linewidth=2.5, linestyle=\"-\", label=\"Cos Function\")\n",
        "plt.plot(X, L, color=\"red\", linewidth=2.5, linestyle=\"-\", label=\"Lin Function\")\n",
        "\n",
        "\n",
        "\n",
        "plt.xlim(X.min() * 1.1, X.max() * 1.1)\n",
        "\n",
        "# Изменить метку на оси координат\n",
        "plt.xticks([-2*np.pi, -3*np.pi / 2, -np.pi, -np.pi / 2, 0, np.pi / 2, np.pi, 3*np.pi / 2, 2*np.pi ],\n",
        "           [r'$-2\\pi$', r'$-3\\pi/2$', r'$-\\pi$', r'$-\\pi/2$', r'$0$', r'$+\\pi/2$', r'$+\\pi$', r'$+3 \\pi/2$', r'$+ 2\\pi$' ])\n",
        "\n",
        "plt.ylim(C.min() * 1.1, C.max() * 1.1)\n",
        "plt.yticks([-2, -1, +1, +2],\n",
        "           [r'$-2$', r'$-1$', r'$+1$', r'$+2$'])\n",
        "\n",
        "\n",
        "#добавляем точку\n",
        "ax.scatter(x=105, y=110, c='g')\n",
        "\n",
        "plt.legend(loc='upper left', frameon=False)\n",
        "plt.grid()\n",
        "plt.show()"
      ]
    },
    {
      "cell_type": "code",
      "execution_count": null,
      "metadata": {
        "id": "pAOKS4Mu0BdZ"
      },
      "outputs": [],
      "source": []
    },
    {
      "cell_type": "code",
      "execution_count": null,
      "metadata": {
        "id": "L0n1z5Fq0Bda"
      },
      "outputs": [],
      "source": []
    }
  ],
  "metadata": {
    "kernelspec": {
      "display_name": "Python 3",
      "language": "python",
      "name": "python3"
    },
    "language_info": {
      "codemirror_mode": {
        "name": "ipython",
        "version": 3
      },
      "file_extension": ".py",
      "mimetype": "text/x-python",
      "name": "python",
      "nbconvert_exporter": "python",
      "pygments_lexer": "ipython3",
      "version": "3.8.5"
    },
    "colab": {
      "provenance": []
    }
  },
  "nbformat": 4,
  "nbformat_minor": 0
}